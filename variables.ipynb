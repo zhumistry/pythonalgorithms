{
  "nbformat": 4,
  "nbformat_minor": 0,
  "metadata": {
    "colab": {
      "provenance": [],
      "authorship_tag": "ABX9TyMJ+NXKL9GMAWBUJXxSVq9B",
      "include_colab_link": true
    },
    "kernelspec": {
      "name": "python3",
      "display_name": "Python 3"
    },
    "language_info": {
      "name": "python"
    }
  },
  "cells": [
    {
      "cell_type": "markdown",
      "metadata": {
        "id": "view-in-github",
        "colab_type": "text"
      },
      "source": [
        "<a href=\"https://colab.research.google.com/github/zhumistry/pythonbasics/blob/main/variables.ipynb\" target=\"_parent\"><img src=\"https://colab.research.google.com/assets/colab-badge.svg\" alt=\"Open In Colab\"/></a>"
      ]
    },
    {
      "cell_type": "markdown",
      "source": [
        "**Python Variables**"
      ],
      "metadata": {
        "id": "WwCNCRkzdXUf"
      }
    },
    {
      "cell_type": "markdown",
      "source": [
        "In Python, variable allow you to refer to a value with a name."
      ],
      "metadata": {
        "id": "62CIlViydhri"
      }
    },
    {
      "cell_type": "markdown",
      "source": [
        "To create a variable, use '=' "
      ],
      "metadata": {
        "id": "wjChw6eyek2t"
      }
    },
    {
      "cell_type": "markdown",
      "source": [
        "***NOTE:***In Python, '=' means assignment, not equality\n",
        "\n",
        "\n"
      ],
      "metadata": {
        "id": "x-vviCh5epAz"
      }
    },
    {
      "cell_type": "markdown",
      "source": [
        "We can use the name of this variable x, instead of the actual value 3"
      ],
      "metadata": {
        "id": "YgFXMZKgeuNG"
      }
    },
    {
      "cell_type": "markdown",
      "source": [],
      "metadata": {
        "id": "X0MDL_E4fJFj"
      }
    },
    {
      "cell_type": "code",
      "execution_count": 1,
      "metadata": {
        "id": "zrpgK7gzcD3R"
      },
      "outputs": [],
      "source": [
        "x=3"
      ]
    },
    {
      "cell_type": "code",
      "source": [
        "print(x)"
      ],
      "metadata": {
        "colab": {
          "base_uri": "https://localhost:8080/"
        },
        "id": "_wcgeAGue1hz",
        "outputId": "2e65d93b-43c7-48a9-9aee-0dfc46c35712"
      },
      "execution_count": 2,
      "outputs": [
        {
          "output_type": "stream",
          "name": "stdout",
          "text": [
            "3\n"
          ]
        }
      ]
    },
    {
      "cell_type": "markdown",
      "source": [
        "**Calculations with Variables**"
      ],
      "metadata": {
        "id": "gy6Ul2j1dWhs"
      }
    },
    {
      "cell_type": "markdown",
      "source": [
        "For example, if we were to calculate 'speed', the formula is speed = distance travelled/ total time"
      ],
      "metadata": {
        "id": "WUXcvjcjfUII"
      }
    },
    {
      "cell_type": "markdown",
      "source": [
        "Let's assign values to the variables 'distance travelled' and 'total time' to find 'speed'"
      ],
      "metadata": {
        "id": "CiZYj7t1gGUD"
      }
    },
    {
      "cell_type": "markdown",
      "source": [
        "Input Python command '#Create variables'"
      ],
      "metadata": {
        "id": "u3ljLyC9h2dD"
      }
    },
    {
      "cell_type": "code",
      "source": [
        "#Create variables\n",
        "distance = 300\n",
        "total_time = 50\n",
        "speed = distance/total_time\n",
        "print(speed)"
      ],
      "metadata": {
        "colab": {
          "base_uri": "https://localhost:8080/"
        },
        "id": "p7CaBBFngP72",
        "outputId": "3b583bd0-b051-4234-f733-2c0fe24cd5f2"
      },
      "execution_count": 14,
      "outputs": [
        {
          "output_type": "stream",
          "name": "stdout",
          "text": [
            "6.0\n"
          ]
        }
      ]
    }
  ]
}