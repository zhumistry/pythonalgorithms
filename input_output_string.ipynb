{
  "nbformat": 4,
  "nbformat_minor": 0,
  "metadata": {
    "colab": {
      "provenance": [],
      "authorship_tag": "ABX9TyMNA19Njh5gQvjC+afwmV7V",
      "include_colab_link": true
    },
    "kernelspec": {
      "name": "python3",
      "display_name": "Python 3"
    },
    "language_info": {
      "name": "python"
    }
  },
  "cells": [
    {
      "cell_type": "markdown",
      "metadata": {
        "id": "view-in-github",
        "colab_type": "text"
      },
      "source": [
        "<a href=\"https://colab.research.google.com/github/zhumistry/pythonbasics/blob/main/input_output_string.ipynb\" target=\"_parent\"><img src=\"https://colab.research.google.com/assets/colab-badge.svg\" alt=\"Open In Colab\"/></a>"
      ]
    },
    {
      "cell_type": "code",
      "source": [
        "input(\"Your name:\")"
      ],
      "metadata": {
        "colab": {
          "base_uri": "https://localhost:8080/",
          "height": 53
        },
        "id": "7hMfWkPQekL_",
        "outputId": "035908eb-a09f-466a-bedd-0b2d1f1c679a"
      },
      "execution_count": 15,
      "outputs": [
        {
          "name": "stdout",
          "output_type": "stream",
          "text": [
            "Your name:xyz\n"
          ]
        },
        {
          "output_type": "execute_result",
          "data": {
            "text/plain": [
              "'xyz'"
            ],
            "application/vnd.google.colaboratory.intrinsic+json": {
              "type": "string"
            }
          },
          "metadata": {},
          "execution_count": 15
        }
      ]
    },
    {
      "cell_type": "code",
      "source": [
        "#create variable\n",
        "string = input(\"Enter a string with no space: \")\n",
        "length = len(string)\n",
        "lengthofstring = length - 1\n",
        "print(string[lengthofstring])\n",
        "print(string[0])\n",
        "print(length)\n",
        "if string[0] != string[lengthofstring]: print(\"not the same\") \n",
        "else: print(\"same\")"
      ],
      "metadata": {
        "colab": {
          "base_uri": "https://localhost:8080/"
        },
        "id": "EuRWP3tgfJRX",
        "outputId": "42387bad-5366-4138-cc83-e505a4290ad2"
      },
      "execution_count": 40,
      "outputs": [
        {
          "output_type": "stream",
          "name": "stdout",
          "text": [
            "Enter a string with no space: hello\n",
            "o\n",
            "h\n",
            "5\n",
            "not the same\n"
          ]
        }
      ]
    }
  ]
}