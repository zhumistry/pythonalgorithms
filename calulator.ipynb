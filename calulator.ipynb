{
  "nbformat": 4,
  "nbformat_minor": 0,
  "metadata": {
    "colab": {
      "provenance": [],
      "authorship_tag": "ABX9TyMPo3ej+NZVHejxKeBr2Smt"
    },
    "kernelspec": {
      "name": "python3",
      "display_name": "Python 3"
    },
    "language_info": {
      "name": "python"
    }
  },
  "cells": [
    {
      "cell_type": "markdown",
      "source": [
        "***Python as a calculator***"
      ],
      "metadata": {
        "id": "T7jpLLuRe9ic"
      }
    },
    {
      "cell_type": "markdown",
      "source": [
        "**Addition**"
      ],
      "metadata": {
        "id": "A8DtfRomfuLY"
      }
    },
    {
      "cell_type": "code",
      "source": [
        "print(7+5)"
      ],
      "metadata": {
        "colab": {
          "base_uri": "https://localhost:8080/"
        },
        "id": "-vsOXdnTf3R_",
        "outputId": "bd64f801-b425-46f1-ae35-c15ffb632741"
      },
      "execution_count": null,
      "outputs": [
        {
          "output_type": "stream",
          "name": "stdout",
          "text": [
            "12\n"
          ]
        }
      ]
    },
    {
      "cell_type": "code",
      "source": [
        "print(6+49+62)"
      ],
      "metadata": {
        "colab": {
          "base_uri": "https://localhost:8080/"
        },
        "id": "HVrDtYvNf5zv",
        "outputId": "c8b48c14-6ed5-4e9e-bf49-f8de0e71aa3d"
      },
      "execution_count": null,
      "outputs": [
        {
          "output_type": "stream",
          "name": "stdout",
          "text": [
            "117\n"
          ]
        }
      ]
    },
    {
      "cell_type": "markdown",
      "source": [
        "**Subtraction**"
      ],
      "metadata": {
        "id": "jqz6jNl_f-wM"
      }
    },
    {
      "cell_type": "code",
      "source": [
        "print(8-3)"
      ],
      "metadata": {
        "colab": {
          "base_uri": "https://localhost:8080/"
        },
        "id": "tFLBRPPVgAUs",
        "outputId": "2e805c78-c515-4743-e858-a17d03ba42fd"
      },
      "execution_count": null,
      "outputs": [
        {
          "output_type": "stream",
          "name": "stdout",
          "text": [
            "5\n"
          ]
        }
      ]
    },
    {
      "cell_type": "code",
      "source": [
        "print(253-64-102)"
      ],
      "metadata": {
        "colab": {
          "base_uri": "https://localhost:8080/"
        },
        "id": "S-GqzjH6gFOS",
        "outputId": "d5fab9c1-7aaa-451e-db3c-d4b9791c83bd"
      },
      "execution_count": null,
      "outputs": [
        {
          "output_type": "stream",
          "name": "stdout",
          "text": [
            "87\n"
          ]
        }
      ]
    },
    {
      "cell_type": "markdown",
      "source": [
        "**Multiplication**"
      ],
      "metadata": {
        "id": "r2QngJrvgMcA"
      }
    },
    {
      "cell_type": "code",
      "source": [
        "print(8*5)"
      ],
      "metadata": {
        "colab": {
          "base_uri": "https://localhost:8080/"
        },
        "id": "tMTI2G0RgOr_",
        "outputId": "cc803b51-0901-46be-baa6-04cc4910ed56"
      },
      "execution_count": null,
      "outputs": [
        {
          "output_type": "stream",
          "name": "stdout",
          "text": [
            "40\n"
          ]
        }
      ]
    },
    {
      "cell_type": "markdown",
      "source": [
        "print(3**3) gives 3^3=27"
      ],
      "metadata": {
        "id": "CIXxDwutgaKm"
      }
    },
    {
      "cell_type": "code",
      "source": [
        "print(3**3)"
      ],
      "metadata": {
        "colab": {
          "base_uri": "https://localhost:8080/"
        },
        "id": "cHgTrE2NgSnj",
        "outputId": "542328c5-7086-4f8b-d0fb-beef4f19241c"
      },
      "execution_count": null,
      "outputs": [
        {
          "output_type": "stream",
          "name": "stdout",
          "text": [
            "27\n"
          ]
        }
      ]
    },
    {
      "cell_type": "markdown",
      "source": [
        "**Division**"
      ],
      "metadata": {
        "id": "rA63Ra4zgiAM"
      }
    },
    {
      "cell_type": "code",
      "source": [
        "print(10/2)"
      ],
      "metadata": {
        "colab": {
          "base_uri": "https://localhost:8080/"
        },
        "id": "Ea3101aOgjRb",
        "outputId": "19e308ea-df22-46c4-bb7d-fd58e7e63ac9"
      },
      "execution_count": null,
      "outputs": [
        {
          "output_type": "stream",
          "name": "stdout",
          "text": [
            "5.0\n"
          ]
        }
      ]
    },
    {
      "cell_type": "markdown",
      "source": [
        "'//' divides the number on its left by the number on its right, and rounds down the answer, thhus giving a rounded down value of 8"
      ],
      "metadata": {
        "id": "vDA9hYFHg8bC"
      }
    },
    {
      "cell_type": "code",
      "source": [
        "print(25//3)"
      ],
      "metadata": {
        "colab": {
          "base_uri": "https://localhost:8080/"
        },
        "id": "cQQiyi0RgouI",
        "outputId": "5b031563-69f9-49af-aac4-bbc383fd822a"
      },
      "execution_count": null,
      "outputs": [
        {
          "output_type": "stream",
          "name": "stdout",
          "text": [
            "8\n"
          ]
        }
      ]
    }
  ]
}